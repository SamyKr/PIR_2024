{
  "nbformat": 4,
  "nbformat_minor": 0,
  "metadata": {
    "colab": {
      "provenance": [],
      "include_colab_link": true
    },
    "kernelspec": {
      "name": "python3",
      "display_name": "Python 3"
    },
    "language_info": {
      "name": "python"
    }
  },
  "cells": [
    {
      "cell_type": "markdown",
      "metadata": {
        "id": "view-in-github",
        "colab_type": "text"
      },
      "source": [
        "<a href=\"https://colab.research.google.com/github/SamyKr/PIR_2024/blob/main/PIR_V1.ipynb\" target=\"_parent\"><img src=\"https://colab.research.google.com/assets/colab-badge.svg\" alt=\"Open In Colab\"/></a>"
      ]
    },
    {
      "cell_type": "markdown",
      "source": [
        "CHARGEMENT DES DONNÉES"
      ],
      "metadata": {
        "id": "C1-foo3FyTbK"
      }
    },
    {
      "cell_type": "code",
      "execution_count": null,
      "metadata": {
        "id": "75tZ34KApRF8"
      },
      "outputs": [],
      "source": []
    },
    {
      "cell_type": "markdown",
      "source": [
        "CHARGEMENT DES DONNEES"
      ],
      "metadata": {
        "id": "JE8UrLI2yXNi"
      }
    },
    {
      "cell_type": "code",
      "source": [
        "# IMPORTATIONS DES MODULES\n",
        "! pip install torch\n",
        "!pip install gdown"
      ],
      "metadata": {
        "colab": {
          "base_uri": "https://localhost:8080/"
        },
        "id": "L6h0PkmrybkE",
        "outputId": "20ec73f7-012c-4d9e-9285-b4003a8f45db"
      },
      "execution_count": null,
      "outputs": [
        {
          "output_type": "stream",
          "name": "stdout",
          "text": [
            "Requirement already satisfied: torch in /usr/local/lib/python3.10/dist-packages (2.4.1+cu121)\n",
            "Requirement already satisfied: filelock in /usr/local/lib/python3.10/dist-packages (from torch) (3.16.1)\n",
            "Requirement already satisfied: typing-extensions>=4.8.0 in /usr/local/lib/python3.10/dist-packages (from torch) (4.12.2)\n",
            "Requirement already satisfied: sympy in /usr/local/lib/python3.10/dist-packages (from torch) (1.13.3)\n",
            "Requirement already satisfied: networkx in /usr/local/lib/python3.10/dist-packages (from torch) (3.3)\n",
            "Requirement already satisfied: jinja2 in /usr/local/lib/python3.10/dist-packages (from torch) (3.1.4)\n",
            "Requirement already satisfied: fsspec in /usr/local/lib/python3.10/dist-packages (from torch) (2024.6.1)\n",
            "Requirement already satisfied: MarkupSafe>=2.0 in /usr/local/lib/python3.10/dist-packages (from jinja2->torch) (2.1.5)\n",
            "Requirement already satisfied: mpmath<1.4,>=1.1.0 in /usr/local/lib/python3.10/dist-packages (from sympy->torch) (1.3.0)\n"
          ]
        }
      ]
    },
    {
      "cell_type": "code",
      "source": [
        "import gdown\n",
        "import os\n",
        "import shutil\n",
        "\n",
        "# Liste des IDs des fichiers\n",
        "file_ids = [\n",
        "    '1BqSt4ueO7XAyQ_84mUjswUSJt13ZBuzG',  # val.zip\n",
        "    '18GuoCuBn48oZKAlEo-LrNwABrFhVALU-',  # train.zip\n",
        "    '1jj3qJD_grJlgIhUWO09zibRGJe0R4Tn0',  # test.zip\n",
        "    '1QOjoa-YFvHOgCLXaxvZUlrlidihpmbWU',  # pam_net_F.pth\n",
        "    '196bR8LdSfVawnSOVmM_YPW25UetucUYX',  # pam_net_A.pth\n",
        "    '1IVdF5a3e1_7DiSndtMkhpZuCSgDLLFcg'   # best_ckpt.pt\n",
        "]\n",
        "\n",
        "# Liste des noms des fichiers\n",
        "file_names = [\n",
        "    'val.zip',\n",
        "    'train.zip',\n",
        "    'test.zip',\n",
        "    'pam_net_F.pth',\n",
        "    'pam_net_A.pth',\n",
        "    'best_ckpt.pt'\n",
        "]\n",
        "\n",
        "# Télécharger chaque fichier en utilisant son ID\n",
        "for file_id, file_name in zip(file_ids, file_names):\n",
        "    gdown.download(f'https://drive.google.com/uc?id={file_id}', file_name, quiet=False)\n",
        "\n",
        "# Créer les dossiers nécessaires\n",
        "os.makedirs('LEVIR-CD/PAM-PRETRAIN', exist_ok=True)\n",
        "os.makedirs('LEVIR-CD/BIT_LEVIR', exist_ok=True)\n",
        "\n",
        "# Déplacer les fichiers dans les sous-dossiers appropriés\n",
        "shutil.move('pam_net_A.pth', 'LEVIR-CD/PAM-PRETRAIN/pam_net_A.pth')\n",
        "shutil.move('pam_net_F.pth', 'LEVIR-CD/PAM-PRETRAIN/pam_net_F.pth')\n",
        "shutil.move('best_ckpt.pt', 'LEVIR-CD/BIT_LEVIR/best_ckpt.pt')\n",
        "shutil.move('val.zip', 'LEVIR-CD/val.zip')\n",
        "shutil.move('train.zip', 'LEVIR-CD/train.zip')\n",
        "shutil.move('test.zip', 'LEVIR-CD/test.zip')\n",
        "\n",
        "# Les fichiers zip resteront dans le dossier LEVIR-CD\n",
        "# Vous pouvez les déplacer si nécessaire, par exemple :\n",
        "# shutil.move('val.zip', 'LEVIR-CD/val.zip')\n",
        "# shutil.move('train.zip', 'LEVIR-CD/train.zip')\n",
        "# shutil.move('test.zip', 'LEVIR-CD/test.zip')\n",
        "\n",
        "print(\"Tous les fichiers ont été téléchargés et organisés.\")\n"
      ],
      "metadata": {
        "colab": {
          "base_uri": "https://localhost:8080/"
        },
        "id": "dLf2j5Zny_Pm",
        "outputId": "571b3020-8892-45ab-b19b-4e7cc32d5470"
      },
      "execution_count": null,
      "outputs": [
        {
          "output_type": "stream",
          "name": "stderr",
          "text": [
            "Downloading...\n",
            "From (original): https://drive.google.com/uc?id=1BqSt4ueO7XAyQ_84mUjswUSJt13ZBuzG\n",
            "From (redirected): https://drive.google.com/uc?id=1BqSt4ueO7XAyQ_84mUjswUSJt13ZBuzG&confirm=t&uuid=87674f15-a821-46c5-b747-f344581244ff\n",
            "To: /content/val.zip\n",
            "100%|██████████| 246M/246M [00:03<00:00, 75.3MB/s]\n",
            "Downloading...\n",
            "From (original): https://drive.google.com/uc?id=18GuoCuBn48oZKAlEo-LrNwABrFhVALU-\n",
            "From (redirected): https://drive.google.com/uc?id=18GuoCuBn48oZKAlEo-LrNwABrFhVALU-&confirm=t&uuid=1018a4a1-a9bc-4337-89c2-92251e8e66a4\n",
            "To: /content/train.zip\n",
            "100%|██████████| 1.72G/1.72G [00:18<00:00, 94.2MB/s]\n",
            "Downloading...\n",
            "From (original): https://drive.google.com/uc?id=1jj3qJD_grJlgIhUWO09zibRGJe0R4Tn0\n",
            "From (redirected): https://drive.google.com/uc?id=1jj3qJD_grJlgIhUWO09zibRGJe0R4Tn0&confirm=t&uuid=51cb5f23-02df-4978-bdf3-71dde34c8a12\n",
            "To: /content/test.zip\n",
            "100%|██████████| 496M/496M [00:08<00:00, 60.7MB/s]\n",
            "Downloading...\n",
            "From: https://drive.google.com/uc?id=1QOjoa-YFvHOgCLXaxvZUlrlidihpmbWU\n",
            "To: /content/pam_net_F.pth\n",
            "100%|██████████| 67.7M/67.7M [00:00<00:00, 78.6MB/s]\n",
            "Downloading...\n",
            "From: https://drive.google.com/uc?id=196bR8LdSfVawnSOVmM_YPW25UetucUYX\n",
            "To: /content/pam_net_A.pth\n",
            "100%|██████████| 162k/162k [00:00<00:00, 28.4MB/s]\n",
            "Downloading...\n",
            "From: https://drive.google.com/uc?id=1IVdF5a3e1_7DiSndtMkhpZuCSgDLLFcg\n",
            "To: /content/best_ckpt.pt\n",
            "100%|██████████| 60.0M/60.0M [00:00<00:00, 63.1MB/s]"
          ]
        },
        {
          "output_type": "stream",
          "name": "stdout",
          "text": [
            "Tous les fichiers ont été téléchargés et organisés.\n"
          ]
        },
        {
          "output_type": "stream",
          "name": "stderr",
          "text": [
            "\n"
          ]
        }
      ]
    }
  ]
}