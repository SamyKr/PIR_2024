{
  "cells": [
    {
      "cell_type": "markdown",
      "metadata": {
        "id": "C1-foo3FyTbK"
      },
      "source": [
        "CHARGEMENT DES DONNÉES"
      ]
    },
    {
      "cell_type": "code",
      "execution_count": null,
      "metadata": {
        "id": "75tZ34KApRF8"
      },
      "outputs": [],
      "source": []
    },
    {
      "cell_type": "markdown",
      "metadata": {
        "id": "JE8UrLI2yXNi"
      },
      "source": [
        "CHARGEMENT DES DONNEES"
      ]
    },
    {
      "cell_type": "code",
      "execution_count": null,
      "metadata": {
        "colab": {
          "base_uri": "https://localhost:8080/"
        },
        "id": "L6h0PkmrybkE",
        "outputId": "b3c9e5bf-387a-48e1-914e-d906353f44e4"
      },
      "outputs": [],
      "source": [
        "# IMPORTATIONS DES MODULES\n",
        "! pip install torch\n",
        "!pip install gdown\n",
        "! pip install options\n",
        "! pip install segmentation-models-pytorch"
      ]
    },
    {
      "cell_type": "code",
      "execution_count": null,
      "metadata": {
        "id": "A6aywy7_iGJx"
      },
      "outputs": [],
      "source": [
        "import os\n",
        "import torch\n",
        "from torch.utils.data import Dataset, DataLoader\n",
        "from PIL import Image\n",
        "import torchvision.transforms as transforms\n",
        "\n",
        "class LEVIRCDClassificationDataset(Dataset):\n",
        "    def __init__(self, img_dir_before, img_dir_after, mask_dir, transform=None):\n",
        "        self.img_dir_before = img_dir_before\n",
        "        self.img_dir_after = img_dir_after\n",
        "        self.mask_dir = mask_dir\n",
        "        self.transform = transform\n",
        "        self.images = os.listdir(img_dir_before)\n",
        "\n",
        "    def __len__(self):\n",
        "        return len(self.images)\n",
        "\n",
        "    def __getitem__(self, idx):\n",
        "        img_name = self.images[idx]\n",
        "        img_before_path = os.path.join(self.img_dir_before, img_name)\n",
        "        img_after_path = os.path.join(self.img_dir_after, img_name)\n",
        "        mask_path = os.path.join(self.mask_dir, img_name)\n",
        "\n",
        "        img_before = Image.open(img_before_path).convert(\"RGB\")\n",
        "        img_after = Image.open(img_after_path).convert(\"RGB\")\n",
        "        mask = Image.open(mask_path).convert(\"L\")  # Grayscale mask\n",
        "\n",
        "        # Calculer le label binaire : 1 s'il y a un changement, 0 sinon\n",
        "        label = 1 if torch.sum(transforms.ToTensor()(mask)) > 0 else 0\n",
        "\n",
        "        if self.transform:\n",
        "            img_before = self.transform(img_before)\n",
        "            img_after = self.transform(img_after)\n",
        "\n",
        "        # Retourner les images avant, après, et le label binaire\n",
        "        return torch.cat([img_before, img_after], dim=0), label\n",
        "\n",
        "# Transforms pour normaliser les images\n",
        "transform = transforms.Compose([\n",
        "    transforms.Resize((256, 256)),\n",
        "    transforms.ToTensor(),\n",
        "])\n",
        "\n",
        "# Chemins vers les répertoires de données\n",
        "img_dir_before = '/content/LEVIR-CD/train/A'\n",
        "img_dir_after = '/content/LEVIR-CD/train/B'\n",
        "mask_dir = '/content/LEVIR-CD/train/label'\n",
        "\n",
        "# Charger les données\n",
        "train_dataset = LEVIRCDClassificationDataset(img_dir_before, img_dir_after, mask_dir, transform)\n",
        "train_loader = DataLoader(train_dataset, batch_size=8, shuffle=True)\n"
      ]
    },
    {
      "cell_type": "code",
      "execution_count": null,
      "metadata": {
        "colab": {
          "base_uri": "https://localhost:8080/"
        },
        "id": "491KU9KWiNTM",
        "outputId": "360a9abd-0bc9-4093-9d01-83c75420a198"
      },
      "outputs": [
        {
          "name": "stdout",
          "output_type": "stream",
          "text": [
            "Époque 1/2, Perte: 10.491071428571429\n",
            "Époque 2/2, Perte: 10.491071428571429\n",
            "Entraînement terminé.\n"
          ]
        }
      ],
      "source": [
        "# Fonction de perte et optimiseur\n",
        "criterion = nn.BCELoss()\n",
        "optimizer = torch.optim.Adam(model.parameters(), lr=0.001)\n",
        "\n",
        "# Boucle d'entraînement\n",
        "num_epochs = 2\n",
        "\n",
        "for epoch in range(num_epochs):\n",
        "    model.train()\n",
        "    running_loss = 0.0\n",
        "\n",
        "    for images, labels in train_loader:\n",
        "        labels = labels.squeeze(1)   # Adapter les labels pour BCELoss\n",
        "\n",
        "        # Réinitialiser les gradients\n",
        "        optimizer.zero_grad()\n",
        "\n",
        "        # Passage en avant\n",
        "        outputs = model(images)\n",
        "        loss = criterion(outputs, labels)\n",
        "\n",
        "        # Passage en arrière et optimisation\n",
        "        loss.backward()\n",
        "        optimizer.step()\n",
        "\n",
        "        running_loss += loss.item()\n",
        "\n",
        "    print(f\"Époque {epoch+1}/{num_epochs}, Perte: {running_loss/len(train_loader)}\")\n",
        "\n",
        "print(\"Entraînement terminé.\")\n"
      ]
    },
    {
      "cell_type": "code",
      "execution_count": null,
      "metadata": {
        "colab": {
          "base_uri": "https://localhost:8080/"
        },
        "id": "ZZvOoY9siS4_",
        "outputId": "9dbcd899-233e-487c-c148-7b599b2d6ce8"
      },
      "outputs": [
        {
          "name": "stdout",
          "output_type": "stream",
          "text": [
            "Test - Accuracy: 0.9219, Precision: 0.9219, Recall: 1.0000, BC: 118.0000, SC: 128.0000, mIoU: 0.4609\n",
            "Validation - Accuracy: 0.8750, Precision: 0.8750, Recall: 1.0000, BC: 56.0000, SC: 64.0000, mIoU: 0.4375\n"
          ]
        }
      ],
      "source": [
        "import torch\n",
        "from torch.utils.data import DataLoader\n",
        "from sklearn.metrics import accuracy_score, precision_score, recall_score\n",
        "import numpy as np\n",
        "\n",
        "# Fonction pour calculer mIoU\n",
        "def compute_miou(all_labels, all_preds, num_classes=2):\n",
        "    # Calcul de l'IoU pour chaque classe\n",
        "    IoUs = []\n",
        "    for cls in range(num_classes):\n",
        "        intersection = np.sum((all_preds == cls) & (all_labels == cls))\n",
        "        union = np.sum((all_preds == cls) | (all_labels == cls))\n",
        "        IoU = intersection / union if union > 0 else 0\n",
        "        IoUs.append(IoU)\n",
        "    mIoU = np.mean(IoUs)\n",
        "    return mIoU\n",
        "\n",
        "# Fonction pour évaluer le modèle et sauvegarder les résultats\n",
        "def evaluate_model(model, data_loader, dataset_name):\n",
        "    model.eval()\n",
        "    all_preds = []\n",
        "    all_labels = []\n",
        "\n",
        "    with torch.no_grad():\n",
        "        for images, labels in data_loader:\n",
        "            outputs = model(images)\n",
        "            preds = (outputs > 0.5).int()  # Convertir en prédictions binaires\n",
        "            all_preds.extend(preds.cpu().numpy())\n",
        "            all_labels.extend(labels.cpu().numpy())\n",
        "\n",
        "    # Calcul des métriques\n",
        "    accuracy = accuracy_score(all_labels, all_preds)\n",
        "    precision = precision_score(all_labels, all_preds)\n",
        "    recall = recall_score(all_labels, all_preds)\n",
        "    # Calcul des scores SCS et SC\n",
        "    binary_change_score = np.sum(np.array(all_preds) == np.array(all_labels)) / len(all_labels)\n",
        "    semantic_change_score = np.sum(np.array(all_preds) & np.array(all_labels)) / np.sum(all_labels) if np.sum(all_labels) > 0 else 0\n",
        "    mIoU = compute_miou(np.array(all_labels), np.array(all_preds))\n",
        "\n",
        "    # Affichage des résultats\n",
        "    print(f\"{dataset_name} - Accuracy: {accuracy:.4f}, Precision: {precision:.4f}, Recall: {recall:.4f}, \"\n",
        "          f\"BC: {binary_change_score:.4f}, SC: {semantic_change_score:.4f}, mIoU: {mIoU:.4f}\")\n",
        "\n",
        "    # Sauvegarde des résultats dans un fichier\n",
        "    with open(\"evaluation_results.txt\", \"a\") as f:\n",
        "        f.write(f\"{dataset_name} - Accuracy: {accuracy:.4f}, Precision: {precision:.4f}, Recall: {recall:.4f}, \"\n",
        "                 f\"BC: {binary_change_score:.4f}, SC: {semantic_change_score:.4f}, mIoU: {mIoU:.4f}\\n\")\n",
        "\n",
        "# Charger les données de test\n",
        "test_dataset = LEVIRCDClassificationDataset('/content/LEVIR-CD/test/A', '/content/LEVIR-CD/test/B', '/content/LEVIR-CD/test/label', transform)\n",
        "test_loader = DataLoader(test_dataset, batch_size=8, shuffle=False)\n",
        "\n",
        "# Charger les données de validation\n",
        "val_dataset = LEVIRCDClassificationDataset('/content/LEVIR-CD/val/A', '/content/LEVIR-CD/val/B', '/content/LEVIR-CD/val/label', transform)\n",
        "val_loader = DataLoader(val_dataset, batch_size=8, shuffle=False)\n",
        "\n",
        "# Évaluer le modèle sur le jeu de test\n",
        "evaluate_model(model, test_loader, dataset_name=\"Test\")\n",
        "\n",
        "# Évaluer le modèle sur le jeu de validation\n",
        "evaluate_model(model, val_loader, dataset_name=\"Validation\")\n"
      ]
    }
  ],
  "metadata": {
    "accelerator": "GPU",
    "colab": {
      "gpuType": "T4",
      "provenance": []
    },
    "kernelspec": {
      "display_name": "Python 3",
      "name": "python3"
    },
    "language_info": {
      "name": "python"
    }
  },
  "nbformat": 4,
  "nbformat_minor": 0
}
