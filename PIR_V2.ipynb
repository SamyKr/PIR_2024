{
  "cells": [
    {
      "cell_type": "markdown",
      "metadata": {
        "id": "C1-foo3FyTbK"
      },
      "source": [
        "CHARGEMENT DES DONNÉES"
      ]
    },
    {
      "cell_type": "code",
      "execution_count": null,
      "metadata": {
        "id": "75tZ34KApRF8"
      },
      "outputs": [],
      "source": []
    },
    {
      "cell_type": "markdown",
      "metadata": {
        "id": "JE8UrLI2yXNi"
      },
      "source": [
        "CHARGEMENT DES MODULES"
      ]
    },
    {
      "cell_type": "code",
      "execution_count": null,
      "metadata": {
        "colab": {
          "base_uri": "https://localhost:8080/"
        },
        "id": "L6h0PkmrybkE",
        "outputId": "b3c9e5bf-387a-48e1-914e-d906353f44e4"
      },
      "outputs": [
        {
          "name": "stdout",
          "output_type": "stream",
          "text": [
            "Requirement already satisfied: torch in /usr/local/lib/python3.10/dist-packages (2.4.1+cu121)\n",
            "Requirement already satisfied: filelock in /usr/local/lib/python3.10/dist-packages (from torch) (3.16.1)\n",
            "Requirement already satisfied: typing-extensions>=4.8.0 in /usr/local/lib/python3.10/dist-packages (from torch) (4.12.2)\n",
            "Requirement already satisfied: sympy in /usr/local/lib/python3.10/dist-packages (from torch) (1.13.3)\n",
            "Requirement already satisfied: networkx in /usr/local/lib/python3.10/dist-packages (from torch) (3.3)\n",
            "Requirement already satisfied: jinja2 in /usr/local/lib/python3.10/dist-packages (from torch) (3.1.4)\n",
            "Requirement already satisfied: fsspec in /usr/local/lib/python3.10/dist-packages (from torch) (2024.6.1)\n",
            "Requirement already satisfied: MarkupSafe>=2.0 in /usr/local/lib/python3.10/dist-packages (from jinja2->torch) (2.1.5)\n",
            "Requirement already satisfied: mpmath<1.4,>=1.1.0 in /usr/local/lib/python3.10/dist-packages (from sympy->torch) (1.3.0)\n",
            "Requirement already satisfied: gdown in /usr/local/lib/python3.10/dist-packages (5.2.0)\n",
            "Requirement already satisfied: beautifulsoup4 in /usr/local/lib/python3.10/dist-packages (from gdown) (4.12.3)\n",
            "Requirement already satisfied: filelock in /usr/local/lib/python3.10/dist-packages (from gdown) (3.16.1)\n",
            "Requirement already satisfied: requests[socks] in /usr/local/lib/python3.10/dist-packages (from gdown) (2.32.3)\n",
            "Requirement already satisfied: tqdm in /usr/local/lib/python3.10/dist-packages (from gdown) (4.66.5)\n",
            "Requirement already satisfied: soupsieve>1.2 in /usr/local/lib/python3.10/dist-packages (from beautifulsoup4->gdown) (2.6)\n",
            "Requirement already satisfied: charset-normalizer<4,>=2 in /usr/local/lib/python3.10/dist-packages (from requests[socks]->gdown) (3.3.2)\n",
            "Requirement already satisfied: idna<4,>=2.5 in /usr/local/lib/python3.10/dist-packages (from requests[socks]->gdown) (3.10)\n",
            "Requirement already satisfied: urllib3<3,>=1.21.1 in /usr/local/lib/python3.10/dist-packages (from requests[socks]->gdown) (2.2.3)\n",
            "Requirement already satisfied: certifi>=2017.4.17 in /usr/local/lib/python3.10/dist-packages (from requests[socks]->gdown) (2024.8.30)\n",
            "Requirement already satisfied: PySocks!=1.5.7,>=1.5.6 in /usr/local/lib/python3.10/dist-packages (from requests[socks]->gdown) (1.7.1)\n",
            "Requirement already satisfied: options in /usr/local/lib/python3.10/dist-packages (1.4.10)\n",
            "Requirement already satisfied: chainmap~=1.0.3 in /usr/local/lib/python3.10/dist-packages (from options) (1.0.3)\n",
            "Requirement already satisfied: combomethod~=1.0.12 in /usr/local/lib/python3.10/dist-packages (from options) (1.0.12)\n",
            "Requirement already satisfied: nulltype~=2.3.1 in /usr/local/lib/python3.10/dist-packages (from options) (2.3.1)\n",
            "Requirement already satisfied: six~=1.12.0 in /usr/local/lib/python3.10/dist-packages (from options) (1.12.0)\n",
            "Requirement already satisfied: segmentation-models-pytorch in /usr/local/lib/python3.10/dist-packages (0.3.4)\n",
            "Requirement already satisfied: efficientnet-pytorch==0.7.1 in /usr/local/lib/python3.10/dist-packages (from segmentation-models-pytorch) (0.7.1)\n",
            "Requirement already satisfied: huggingface-hub>=0.24.6 in /usr/local/lib/python3.10/dist-packages (from segmentation-models-pytorch) (0.24.7)\n",
            "Requirement already satisfied: pillow in /usr/local/lib/python3.10/dist-packages (from segmentation-models-pytorch) (10.4.0)\n",
            "Requirement already satisfied: pretrainedmodels==0.7.4 in /usr/local/lib/python3.10/dist-packages (from segmentation-models-pytorch) (0.7.4)\n",
            "Requirement already satisfied: six in /usr/local/lib/python3.10/dist-packages (from segmentation-models-pytorch) (1.12.0)\n",
            "Requirement already satisfied: timm==0.9.7 in /usr/local/lib/python3.10/dist-packages (from segmentation-models-pytorch) (0.9.7)\n",
            "Requirement already satisfied: torchvision>=0.5.0 in /usr/local/lib/python3.10/dist-packages (from segmentation-models-pytorch) (0.19.1+cu121)\n",
            "Requirement already satisfied: tqdm in /usr/local/lib/python3.10/dist-packages (from segmentation-models-pytorch) (4.66.5)\n",
            "Requirement already satisfied: torch in /usr/local/lib/python3.10/dist-packages (from efficientnet-pytorch==0.7.1->segmentation-models-pytorch) (2.4.1+cu121)\n",
            "Requirement already satisfied: munch in /usr/local/lib/python3.10/dist-packages (from pretrainedmodels==0.7.4->segmentation-models-pytorch) (4.0.0)\n",
            "Requirement already satisfied: pyyaml in /usr/local/lib/python3.10/dist-packages (from timm==0.9.7->segmentation-models-pytorch) (6.0.2)\n",
            "Requirement already satisfied: safetensors in /usr/local/lib/python3.10/dist-packages (from timm==0.9.7->segmentation-models-pytorch) (0.4.5)\n",
            "Requirement already satisfied: filelock in /usr/local/lib/python3.10/dist-packages (from huggingface-hub>=0.24.6->segmentation-models-pytorch) (3.16.1)\n",
            "Requirement already satisfied: fsspec>=2023.5.0 in /usr/local/lib/python3.10/dist-packages (from huggingface-hub>=0.24.6->segmentation-models-pytorch) (2024.6.1)\n",
            "Requirement already satisfied: packaging>=20.9 in /usr/local/lib/python3.10/dist-packages (from huggingface-hub>=0.24.6->segmentation-models-pytorch) (24.1)\n",
            "Requirement already satisfied: requests in /usr/local/lib/python3.10/dist-packages (from huggingface-hub>=0.24.6->segmentation-models-pytorch) (2.32.3)\n",
            "Requirement already satisfied: typing-extensions>=3.7.4.3 in /usr/local/lib/python3.10/dist-packages (from huggingface-hub>=0.24.6->segmentation-models-pytorch) (4.12.2)\n",
            "Requirement already satisfied: numpy in /usr/local/lib/python3.10/dist-packages (from torchvision>=0.5.0->segmentation-models-pytorch) (1.26.4)\n",
            "Requirement already satisfied: sympy in /usr/local/lib/python3.10/dist-packages (from torch->efficientnet-pytorch==0.7.1->segmentation-models-pytorch) (1.13.3)\n",
            "Requirement already satisfied: networkx in /usr/local/lib/python3.10/dist-packages (from torch->efficientnet-pytorch==0.7.1->segmentation-models-pytorch) (3.3)\n",
            "Requirement already satisfied: jinja2 in /usr/local/lib/python3.10/dist-packages (from torch->efficientnet-pytorch==0.7.1->segmentation-models-pytorch) (3.1.4)\n",
            "Requirement already satisfied: charset-normalizer<4,>=2 in /usr/local/lib/python3.10/dist-packages (from requests->huggingface-hub>=0.24.6->segmentation-models-pytorch) (3.3.2)\n",
            "Requirement already satisfied: idna<4,>=2.5 in /usr/local/lib/python3.10/dist-packages (from requests->huggingface-hub>=0.24.6->segmentation-models-pytorch) (3.10)\n",
            "Requirement already satisfied: urllib3<3,>=1.21.1 in /usr/local/lib/python3.10/dist-packages (from requests->huggingface-hub>=0.24.6->segmentation-models-pytorch) (2.2.3)\n",
            "Requirement already satisfied: certifi>=2017.4.17 in /usr/local/lib/python3.10/dist-packages (from requests->huggingface-hub>=0.24.6->segmentation-models-pytorch) (2024.8.30)\n",
            "Requirement already satisfied: MarkupSafe>=2.0 in /usr/local/lib/python3.10/dist-packages (from jinja2->torch->efficientnet-pytorch==0.7.1->segmentation-models-pytorch) (2.1.5)\n",
            "Requirement already satisfied: mpmath<1.4,>=1.1.0 in /usr/local/lib/python3.10/dist-packages (from sympy->torch->efficientnet-pytorch==0.7.1->segmentation-models-pytorch) (1.3.0)\n"
          ]
        }
      ],
      "source": [
        "# IMPORTATIONS DES MODULES\n",
        "! pip install torch\n",
        "!pip install gdown\n",
        "! pip install options\n",
        "! pip install segmentation-models-pytorch"
      ]
    },
    {
      "cell_type": "markdown",
      "metadata": {},
      "source": [
        "TELECHARGEMENT DES DATAS + ORGANISATION DES DATAS"
      ]
    },
    {
      "cell_type": "code",
      "execution_count": null,
      "metadata": {
        "colab": {
          "base_uri": "https://localhost:8080/"
        },
        "id": "dLf2j5Zny_Pm",
        "outputId": "73d098a8-b5cc-4129-8f05-64ad584bc0cb"
      },
      "outputs": [],
      "source": [
        "import gdown\n",
        "import os\n",
        "import shutil\n",
        "import zipfile\n",
        "import os\n",
        "\n",
        "\n",
        "# Liste des IDs des fichiers\n",
        "file_ids = [\n",
        "    '1BqSt4ueO7XAyQ_84mUjswUSJt13ZBuzG',  # val.zip\n",
        "    '18GuoCuBn48oZKAlEo-LrNwABrFhVALU-',  # train.zip\n",
        "    '1jj3qJD_grJlgIhUWO09zibRGJe0R4Tn0',  # test.zip\n",
        "    '1QOjoa-YFvHOgCLXaxvZUlrlidihpmbWU',  # pam_net_F.pth\n",
        "    '196bR8LdSfVawnSOVmM_YPW25UetucUYX',  # pam_net_A.pth\n",
        "    '1IVdF5a3e1_7DiSndtMkhpZuCSgDLLFcg'   # best_ckpt.pt\n",
        "]\n",
        "\n",
        "# Liste des noms des fichiers\n",
        "file_names = [\n",
        "    'val.zip',\n",
        "    'train.zip',\n",
        "    'test.zip',\n",
        "    'pam_net_F.pth',\n",
        "    'pam_net_A.pth',\n",
        "    'best_ckpt.pt'\n",
        "]\n",
        "\n",
        "# Télécharger chaque fichier en utilisant son ID\n",
        "for file_id, file_name in zip(file_ids, file_names):\n",
        "    gdown.download(f'https://drive.google.com/uc?id={file_id}', file_name, quiet=False)\n",
        "\n",
        "# Créer les dossiers nécessaires\n",
        "os.makedirs('LEVIR-CD/PAM-PRETRAIN', exist_ok=True)\n",
        "os.makedirs('LEVIR-CD/BIT_LEVIR', exist_ok=True)\n",
        "os.makedirs('LEVIR-CD/train', exist_ok=True)\n",
        "os.makedirs('LEVIR-CD/test', exist_ok=True)\n",
        "os.makedirs('LEVIR-CD/val', exist_ok=True)\n",
        "\n",
        "# Déplacer les fichiers dans les sous-dossiers appropriés\n",
        "shutil.move('pam_net_A.pth', 'LEVIR-CD/PAM-PRETRAIN/pam_net_A.pth')\n",
        "shutil.move('pam_net_F.pth', 'LEVIR-CD/PAM-PRETRAIN/pam_net_F.pth')\n",
        "shutil.move('best_ckpt.pt', 'LEVIR-CD/BIT_LEVIR/best_ckpt.pt')\n",
        "shutil.move('val.zip', 'LEVIR-CD/val.zip')\n",
        "shutil.move('train.zip', 'LEVIR-CD/train.zip')\n",
        "shutil.move('test.zip', 'LEVIR-CD/test.zip')\n",
        "\n",
        "\n",
        "\n",
        "\n",
        "\n",
        "\n",
        "def unzip_file(zip_path, extract_to):\n",
        "    with zipfile.ZipFile(zip_path, 'r') as zip_ref:\n",
        "        zip_ref.extractall(extract_to)\n",
        "    print(f'Décompressé {zip_path} dans {extract_to}')\n",
        "\n",
        "# Décompression des fichiers\n",
        "unzip_file('LEVIR-CD/val.zip', 'LEVIR-CD/val')\n",
        "unzip_file('LEVIR-CD/train.zip', 'LEVIR-CD/train')\n",
        "unzip_file('LEVIR-CD/test.zip', 'LEVIR-CD/test')\n",
        "os.remove('LEVIR-CD/val.zip')\n",
        "os.remove('LEVIR-CD/train.zip')\n",
        "os.remove('LEVIR-CD/test.zip')\n",
        "print(\"Tous les fichiers ont été décompressés et supprimés\")\n",
        "\n",
        "\n",
        "\n",
        "\n",
        "\n",
        "print(\"Tous les fichiers ont été téléchargés et organisés.\")\n"
      ]
    },
    {
      "cell_type": "code",
      "execution_count": null,
      "metadata": {
        "id": "A6aywy7_iGJx"
      },
      "outputs": [],
      "source": [
        "import os\n",
        "import torch\n",
        "from torch.utils.data import Dataset, DataLoader\n",
        "from PIL import Image\n",
        "import torchvision.transforms as transforms\n",
        "\n",
        "class LEVIRCDClassificationDataset(Dataset):\n",
        "    def __init__(self, img_dir_before, img_dir_after, mask_dir, transform=None):\n",
        "        self.img_dir_before = img_dir_before\n",
        "        self.img_dir_after = img_dir_after\n",
        "        self.mask_dir = mask_dir\n",
        "        self.transform = transform\n",
        "        self.images = os.listdir(img_dir_before)\n",
        "\n",
        "    def __len__(self):\n",
        "        return len(self.images)\n",
        "\n",
        "    def __getitem__(self, idx):\n",
        "        img_name = self.images[idx]\n",
        "        img_before_path = os.path.join(self.img_dir_before, img_name)\n",
        "        img_after_path = os.path.join(self.img_dir_after, img_name)\n",
        "        mask_path = os.path.join(self.mask_dir, img_name)\n",
        "\n",
        "        img_before = Image.open(img_before_path).convert(\"RGB\")\n",
        "        img_after = Image.open(img_after_path).convert(\"RGB\")\n",
        "        mask = Image.open(mask_path).convert(\"L\")  # Grayscale mask\n",
        "\n",
        "        # Calculer le label binaire : 1 s'il y a un changement, 0 sinon\n",
        "        label = 1 if torch.sum(transforms.ToTensor()(mask)) > 0 else 0\n",
        "\n",
        "        if self.transform:\n",
        "            img_before = self.transform(img_before)\n",
        "            img_after = self.transform(img_after)\n",
        "\n",
        "        # Retourner les images avant, après, et le label binaire\n",
        "        return torch.cat([img_before, img_after], dim=0), label\n",
        "\n",
        "# Transforms pour normaliser les images\n",
        "transform = transforms.Compose([\n",
        "    transforms.Resize((256, 256)),\n",
        "    transforms.ToTensor(),\n",
        "])\n",
        "\n",
        "# Chemins vers les répertoires de données\n",
        "img_dir_before = '/content/LEVIR-CD/train/A'\n",
        "img_dir_after = '/content/LEVIR-CD/train/B'\n",
        "mask_dir = '/content/LEVIR-CD/train/label'\n",
        "\n",
        "# Charger les données\n",
        "train_dataset = LEVIRCDClassificationDataset(img_dir_before, img_dir_after, mask_dir, transform)\n",
        "train_loader = DataLoader(train_dataset, batch_size=8, shuffle=True)\n"
      ]
    },
    {
      "cell_type": "code",
      "execution_count": null,
      "metadata": {
        "colab": {
          "base_uri": "https://localhost:8080/"
        },
        "id": "MB-vzaAWiLwv",
        "outputId": "80875608-7ff0-4022-81fe-eda22377d366"
      },
      "outputs": [
        {
          "name": "stdout",
          "output_type": "stream",
          "text": [
            "ChangeDetectionClassifier(\n",
            "  (conv1): Conv2d(6, 32, kernel_size=(3, 3), stride=(1, 1), padding=(1, 1))\n",
            "  (conv2): Conv2d(32, 64, kernel_size=(3, 3), stride=(1, 1), padding=(1, 1))\n",
            "  (conv3): Conv2d(64, 128, kernel_size=(3, 3), stride=(1, 1), padding=(1, 1))\n",
            "  (pool): MaxPool2d(kernel_size=2, stride=2, padding=0, dilation=1, ceil_mode=False)\n",
            "  (fc1): Linear(in_features=131072, out_features=512, bias=True)\n",
            "  (fc2): Linear(in_features=512, out_features=1, bias=True)\n",
            ")\n"
          ]
        }
      ],
      "source": []
    },
    {
      "cell_type": "code",
      "execution_count": null,
      "metadata": {
        "colab": {
          "base_uri": "https://localhost:8080/"
        },
        "id": "491KU9KWiNTM",
        "outputId": "360a9abd-0bc9-4093-9d01-83c75420a198"
      },
      "outputs": [
        {
          "name": "stdout",
          "output_type": "stream",
          "text": [
            "Époque 1/2, Perte: 10.491071428571429\n",
            "Époque 2/2, Perte: 10.491071428571429\n",
            "Entraînement terminé.\n"
          ]
        }
      ],
      "source": []
    },
    {
      "cell_type": "code",
      "execution_count": null,
      "metadata": {
        "colab": {
          "base_uri": "https://localhost:8080/"
        },
        "id": "ZZvOoY9siS4_",
        "outputId": "9dbcd899-233e-487c-c148-7b599b2d6ce8"
      },
      "outputs": [
        {
          "name": "stdout",
          "output_type": "stream",
          "text": [
            "Test - Accuracy: 0.9219, Precision: 0.9219, Recall: 1.0000, BC: 118.0000, SC: 128.0000, mIoU: 0.4609\n",
            "Validation - Accuracy: 0.8750, Precision: 0.8750, Recall: 1.0000, BC: 56.0000, SC: 64.0000, mIoU: 0.4375\n"
          ]
        }
      ],
      "source": []
    },
    {
      "cell_type": "code",
      "execution_count": 9,
      "metadata": {
        "colab": {
          "base_uri": "https://localhost:8080/"
        },
        "id": "JNa2VWCEmLk1",
        "outputId": "82b7a740-f956-4502-cedb-a3c83b205b18"
      },
      "outputs": [
        {
          "name": "stdout",
          "output_type": "stream",
          "text": [
            "Using device: cuda\n",
            "Epoch [1/5], Loss: 0.1614\n",
            "Epoch [2/5], Loss: 0.0768\n",
            "Epoch [3/5], Loss: 0.0726\n",
            "Epoch [4/5], Loss: 0.0591\n",
            "Epoch [5/5], Loss: 0.0561\n"
          ]
        }
      ],
      "source": [
        "import torch\n",
        "import torch.nn as nn\n",
        "import torch.optim as optim\n",
        "from torch.utils.data import DataLoader\n",
        "import segmentation_models_pytorch as smp\n",
        "from sklearn.metrics import accuracy_score, precision_score, recall_score\n",
        "import os\n",
        "from PIL import Image\n",
        "import torchvision.transforms as transforms\n",
        "import numpy as np\n",
        "import matplotlib.pyplot as plt\n",
        "\n",
        "\n",
        "# Vérifier si un GPU est disponible\n",
        "device = torch.device('cuda' if torch.cuda.is_available() else 'cpu')\n",
        "print(f\"Using device: {device}\")\n",
        "\n",
        "# Charger le modèle U-Net avec un backbone pré-entraîné (ResNet34)\n",
        "def get_pretrained_unet():\n",
        "    model = smp.Unet(\n",
        "        encoder_name=\"resnet34\",        # Utilise ResNet34 pré-entraîné sur ImageNet\n",
        "        encoder_weights=\"imagenet\",     # Poids pré-entraînés sur ImageNet\n",
        "        in_channels=6,                  # Car deux images (avant/après) empilées = 6 canaux\n",
        "        classes=1,                      # Une sortie binaire (détection de changement)\n",
        "    )\n",
        "    return model\n",
        "\n",
        "# Dataset LEVIR-CD\n",
        "class LEVIRCDDataset(torch.utils.data.Dataset):\n",
        "    def __init__(self, imageA_dir, imageB_dir, label_dir, transform=None):\n",
        "        self.imageA_dir = imageA_dir\n",
        "        self.imageB_dir = imageB_dir\n",
        "        self.label_dir = label_dir\n",
        "        self.transform = transform\n",
        "        self.image_paths = sorted(os.listdir(imageA_dir))  # Suppose que les fichiers sont ordonnés\n",
        "\n",
        "    def __len__(self):\n",
        "        return len(self.image_paths)\n",
        "\n",
        "    def __getitem__(self, idx):\n",
        "        imageA = Image.open(os.path.join(self.imageA_dir, self.image_paths[idx])).convert('RGB')\n",
        "        imageB = Image.open(os.path.join(self.imageB_dir, self.image_paths[idx])).convert('RGB')\n",
        "        label = Image.open(os.path.join(self.label_dir, self.image_paths[idx])).convert('L')\n",
        "\n",
        "        if self.transform:\n",
        "            imageA = self.transform(imageA)\n",
        "            imageB = self.transform(imageB)\n",
        "            label = self.transform(label)\n",
        "\n",
        "        # Concaténer les deux images pour obtenir 6 canaux (3 canaux de chaque image)\n",
        "        combined_image = torch.cat([imageA, imageB], dim=0)\n",
        "        return combined_image, label\n",
        "\n",
        "# Configuration des hyperparamètres\n",
        "num_epochs = 5\n",
        "learning_rate = 0.001\n",
        "batch_size = 2\n",
        "\n",
        "transform = transforms.Compose([\n",
        "    transforms.ToTensor(),\n",
        "    transforms.Resize((1024, 1024)), # Resize the image to match the output size\n",
        "])\n",
        "\n",
        "# Charger les données d'entraînement et de validation\n",
        "train_dataset = LEVIRCDDataset('/content/LEVIR-CD/train/A', '/content/LEVIR-CD/train/B', '/content/LEVIR-CD/train/label', transform=transform)\n",
        "train_loader = DataLoader(train_dataset, batch_size=batch_size, shuffle=True)\n",
        "\n",
        "val_dataset = LEVIRCDDataset('/content/LEVIR-CD/val/A', '/content/LEVIR-CD/val/B', '/content/LEVIR-CD/val/label', transform=transform)\n",
        "val_loader = DataLoader(val_dataset, batch_size=batch_size, shuffle=False)\n",
        "\n",
        "# Créer le modèle U-Net\n",
        "model = get_pretrained_unet().to(device)\n",
        "\n",
        "# Fonction de perte et optimiseur\n",
        "criterion = nn.BCEWithLogitsLoss()  # Binary cross-entropy\n",
        "optimizer = optim.Adam(model.parameters(), lr=learning_rate)\n",
        "\n",
        "# Fonction d'entraînement\n",
        "def train_model(model, train_loader, val_loader, criterion, optimizer, num_epochs):\n",
        "    for epoch in range(num_epochs):\n",
        "        model.train()  # Mettre le modèle en mode entraînement\n",
        "        running_loss = 0.0\n",
        "        for images, labels in train_loader:\n",
        "            images, labels = images.to(device), labels.to(device)  # Envoyer les données sur le GPU/CPU\n",
        "            labels = labels.squeeze(1)\n",
        "            # Forward pass\n",
        "            outputs = model(images)\n",
        "            loss = criterion(outputs, labels.unsqueeze(1).float())\n",
        "\n",
        "            # Backward pass et optimisation\n",
        "            optimizer.zero_grad()\n",
        "            loss.backward()\n",
        "            optimizer.step()\n",
        "\n",
        "            running_loss += loss.item()\n",
        "\n",
        "        print(f\"Epoch [{epoch+1}/{num_epochs}], Loss: {running_loss/len(train_loader):.4f}\")\n",
        "\n",
        "        # Évaluation sur le jeu de validation après chaque epoch\n",
        "\n",
        "\n",
        "# Entraîner le modèle\n",
        "train_model(model, train_loader, val_loader, criterion, optimizer, num_epochs)\n",
        "\n",
        "\n",
        "\n",
        "\n"
      ]
    },
    {
      "cell_type": "code",
      "execution_count": 10,
      "metadata": {
        "colab": {
          "base_uri": "https://localhost:8080/"
        },
        "id": "jPAAKSuMsDvt",
        "outputId": "6571c20e-5b74-49f8-947e-3c2924cb565f"
      },
      "outputs": [
        {
          "name": "stdout",
          "output_type": "stream",
          "text": [
            "Validation Accuracy: nan, Precision: 0.0000, Recall: 0.0000\n",
            "Cartes de détection de changement enregistrées dans le dossier : predictions\n"
          ]
        },
        {
          "name": "stderr",
          "output_type": "stream",
          "text": [
            "/usr/local/lib/python3.10/dist-packages/numpy/lib/function_base.py:520: RuntimeWarning: Mean of empty slice.\n",
            "  avg = a.mean(axis, **keepdims_kw)\n",
            "/usr/local/lib/python3.10/dist-packages/numpy/core/_methods.py:129: RuntimeWarning: invalid value encountered in scalar divide\n",
            "  ret = ret.dtype.type(ret / rcount)\n",
            "/usr/local/lib/python3.10/dist-packages/sklearn/metrics/_classification.py:1531: UndefinedMetricWarning: Precision is ill-defined and being set to 0.0 due to no predicted samples. Use `zero_division` parameter to control this behavior.\n",
            "  _warn_prf(average, modifier, f\"{metric.capitalize()} is\", len(result))\n",
            "/usr/local/lib/python3.10/dist-packages/sklearn/metrics/_classification.py:1531: UndefinedMetricWarning: Recall is ill-defined and being set to 0.0 due to no true samples. Use `zero_division` parameter to control this behavior.\n",
            "  _warn_prf(average, modifier, f\"{metric.capitalize()} is\", len(result))\n"
          ]
        }
      ],
      "source": [
        "\n",
        "\n",
        "# Fonction de validation\n",
        "def validate_model_and_save_predictions(model, val_loader, save_dir='predictions'):\n",
        "    model.eval()\n",
        "    all_preds = []\n",
        "    all_labels = []\n",
        "\n",
        "    # Créer un dossier pour sauvegarder les cartes si nécessaire\n",
        "    if not os.path.exists(save_dir):\n",
        "        os.makedirs(save_dir)\n",
        "\n",
        "    with torch.no_grad():  # Pas de calcul des gradients pendant l'évaluation\n",
        "        for i, (images, labels) in enumerate(val_loader):\n",
        "            images = images.to(device)  # Envoyer les images sur le GPU/CPU\n",
        "\n",
        "            # Faire les prédictions\n",
        "            outputs = model(images)\n",
        "            preds = torch.sigmoid(outputs)  # Appliquer la fonction sigmoïde pour obtenir des probabilités\n",
        "            preds = preds.cpu().numpy() \n",
        "\n",
        "            # SAVE SHIFT DETECTION MAP\n",
        "            for j in range(preds.shape[0]):\n",
        "                pred = preds[j, 0]  # Extraire la carte de changement pour la jème image du batch\n",
        "                plt.imsave(os.path.join(save_dir, f'change_map_{i*val_loader.batch_size + j}.png'), pred, cmap='gray')\n",
        "\n",
        "    \n",
        "\n",
        "\n",
        "    accuracy = accuracy_score(all_labels, all_preds)\n",
        "    precision = precision_score(all_labels, all_preds)\n",
        "    recall = recall_score(all_labels, all_preds)\n",
        "\n",
        "    print(f\"Validation Accuracy: {accuracy:.4f}, Precision: {precision:.4f}, Recall: {recall:.4f}\")\n",
        "    print(f\"Cartes de détection de changement enregistrées dans le dossier : {save_dir}\")\n",
        "\n",
        "\n",
        "validate_model_and_save_predictions(model, val_loader)"
      ]
    }
  ],
  "metadata": {
    "accelerator": "GPU",
    "colab": {
      "gpuType": "T4",
      "provenance": []
    },
    "kernelspec": {
      "display_name": "Python 3",
      "name": "python3"
    },
    "language_info": {
      "name": "python"
    }
  },
  "nbformat": 4,
  "nbformat_minor": 0
}
